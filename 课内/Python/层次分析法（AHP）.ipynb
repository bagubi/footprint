{
 "cells": [
  {
   "cell_type": "code",
   "execution_count": null,
   "id": "c79350e8",
   "metadata": {},
   "outputs": [],
   "source": [
    "目标函数：min z = 2x₁ + 3x₂ + x₃\n",
    "约束条件：\n",
    "x₁ + 4x₂ + 2x₃ ≥ 8\n",
    "3x₁ + 2x₂ ≥ 6\n",
    "x₁, x₂, x₃ ≥ 0\n",
    "\n",
    "import numpy as np\n",
    "from scipy.optimize import linprog\n",
    "\n",
    "# 目标函数系数\n",
    "c = np.array([2, 3, 1])\n",
    "\n",
    "# 不等式约束矩阵（转换为 <= 形式）\n",
    "A_up = np.array([[-1, -4, -2], [-3, -2, 0]])\n",
    "b_up = np.array([-8, -6])\n",
    "\n",
    "# 变量边界约束（>=0）\n",
    "r = linprog(c, A_ub=A_up, b_ub=b_up, bounds=((0, None), (0, None), (0, None)))\n",
    "\n",
    "print(r)"
   ]
  }
 ],
 "metadata": {
  "kernelspec": {
   "display_name": "base",
   "language": "python",
   "name": "python3"
  },
  "language_info": {
   "name": "python",
   "version": "3.13.5"
  }
 },
 "nbformat": 4,
 "nbformat_minor": 5
}
